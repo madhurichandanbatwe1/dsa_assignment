{
 "cells": [
  {
   "cell_type": "markdown",
   "id": "dcceb86b-29fd-4489-b7eb-983192edb6a0",
   "metadata": {},
   "source": [
    "Problem 1: Reverse a singly linked list."
   ]
  },
  {
   "cell_type": "code",
   "execution_count": 4,
   "id": "4e152f7f-eb1c-489d-8727-5248324c73b0",
   "metadata": {},
   "outputs": [],
   "source": [
    "class ListNode:\n",
    "    def __init__(self, val=0, next=None):\n",
    "        self.val = val\n",
    "        self.next = next\n",
    "\n",
    "def reverseList(head):\n",
    "    prev = None\n",
    "    current = head\n",
    "    while current:\n",
    "        next_node = current.next\n",
    "        current.next = prev\n",
    "        prev = current\n",
    "        current = next_node\n",
    "    return prev\n"
   ]
  },
  {
   "cell_type": "code",
   "execution_count": 5,
   "id": "e14aef39-5996-423d-95b8-f63c1e1bdaa6",
   "metadata": {},
   "outputs": [
    {
     "name": "stdout",
     "output_type": "stream",
     "text": [
      "5 -> 4 -> 3 -> 2 -> 1\n"
     ]
    }
   ],
   "source": [
    "# Step 1: Create the linked list 1 -> 2 -> 3 -> 4 -> 5\n",
    "head = ListNode(1)\n",
    "head.next = ListNode(2)\n",
    "head.next.next = ListNode(3)\n",
    "head.next.next.next = ListNode(4)\n",
    "head.next.next.next.next = ListNode(5)\n",
    "\n",
    "# Step 2: Pass the head of the linked list to reverseList\n",
    "reversed_head = reverseList(head)\n",
    "\n",
    "# Step 3: Traverse and print the reversed linked list\n",
    "current = reversed_head\n",
    "while current:\n",
    "    print(current.val, end=\" -> \" if current.next else \"\\n\")\n",
    "    current = current.next\n"
   ]
  },
  {
   "cell_type": "markdown",
   "id": "9dfe99b5-349d-4361-bc80-3f55b41bd159",
   "metadata": {},
   "source": [
    "Problem 2: Merge two sorted linked lists into one sorted linked list."
   ]
  },
  {
   "cell_type": "code",
   "execution_count": 6,
   "id": "f4c11147-9733-4dac-84fe-f292d1bbff91",
   "metadata": {},
   "outputs": [],
   "source": [
    "def mergeTwoLists(l1, l2):\n",
    "    dummy = ListNode()\n",
    "    tail = dummy\n",
    "\n",
    "    while l1 and l2:\n",
    "        if l1.val < l2.val:\n",
    "            tail.next = l1\n",
    "            l1 = l1.next\n",
    "        else:\n",
    "            tail.next = l2\n",
    "            l2 = l2.next\n",
    "        tail = tail.next\n",
    "\n",
    "    tail.next = l1 if l1 else l2\n",
    "    return dummy.next\n"
   ]
  },
  {
   "cell_type": "code",
   "execution_count": 8,
   "id": "a3023d33-1279-4439-84b0-c969a0d8060f",
   "metadata": {},
   "outputs": [
    {
     "name": "stdout",
     "output_type": "stream",
     "text": [
      "1 -> 2 -> 3 -> 4 -> 5 -> 6\n"
     ]
    }
   ],
   "source": [
    "# Helper function to create a linked list from a list of values\n",
    "def create_linked_list(values):\n",
    "    if not values:\n",
    "        return None\n",
    "    head = ListNode(values[0])\n",
    "    current = head\n",
    "    for val in values[1:]:\n",
    "        current.next = ListNode(val)\n",
    "        current = current.next\n",
    "    return head\n",
    "\n",
    "# Step 1: Create the linked lists\n",
    "l1 = create_linked_list([1, 3, 5])\n",
    "l2 = create_linked_list([2, 4, 6])\n",
    "\n",
    "# Step 2: Pass the heads of the linked lists to mergeTwoLists\n",
    "merged_head = mergeTwoLists(l1, l2)\n",
    "\n",
    "# Step 3: Traverse and print the merged linked list\n",
    "current = merged_head\n",
    "while current:\n",
    "    print(current.val, end=\" -> \" if current.next else \"\\n\")\n",
    "    current = current.next\n"
   ]
  },
  {
   "cell_type": "markdown",
   "id": "e1e595eb-5067-4568-b4a5-3740947dfa24",
   "metadata": {},
   "source": [
    "Problem 3: Remove the nth node from the end of a linked list."
   ]
  },
  {
   "cell_type": "code",
   "execution_count": 9,
   "id": "f5e4d6ed-e9e4-4a12-84d8-6a99a5e12004",
   "metadata": {},
   "outputs": [],
   "source": [
    "def removeNthFromEnd(head, n):\n",
    "    dummy = ListNode(0, head)\n",
    "    first = second = dummy\n",
    "\n",
    "    for _ in range(n + 1):\n",
    "        first = first.next\n",
    "\n",
    "    while first:\n",
    "        first = first.next\n",
    "        second = second.next\n",
    "\n",
    "    second.next = second.next.next\n",
    "    return dummy.next\n"
   ]
  },
  {
   "cell_type": "code",
   "execution_count": 12,
   "id": "0a429969-573a-472d-b1fc-ce41cef306c5",
   "metadata": {},
   "outputs": [
    {
     "name": "stdout",
     "output_type": "stream",
     "text": [
      "Original Linked List:\n",
      "1 -> 2 -> 3 -> 4 -> 5\n",
      "Linked List after removing the nth node from the end:\n",
      "1 -> 2 -> 3 -> 5\n"
     ]
    }
   ],
   "source": [
    "# Step 1: Define the ListNode class\n",
    "class ListNode:\n",
    "    def __init__(self, val=0, next=None):\n",
    "        self.val = val\n",
    "        self.next = next\n",
    "\n",
    "# Step 2: Helper function to create a linked list from a list of values\n",
    "def create_linked_list(values):\n",
    "    if not values:\n",
    "        return None\n",
    "    head = ListNode(values[0])\n",
    "    current = head\n",
    "    for value in values[1:]:\n",
    "        current.next = ListNode(value)\n",
    "        current = current.next\n",
    "    return head\n",
    "\n",
    "# Helper function to print the linked list (for debugging purposes)\n",
    "def print_linked_list(head):\n",
    "    current = head\n",
    "    while current:\n",
    "        print(current.val, end=\" -> \" if current.next else \"\")\n",
    "        current = current.next\n",
    "    print()\n",
    "\n",
    "# Step 3: Use the functions\n",
    "values = [1, 2, 3, 4, 5]  # Example list\n",
    "n = 2 # Example n value (remove the 2nd node from the end)\n",
    "\n",
    "# Create the linked list\n",
    "head = create_linked_list(values)\n",
    "\n",
    "# Print the original linked list\n",
    "print(\"Original Linked List:\")\n",
    "print_linked_list(head)\n",
    "\n",
    "# Call the removeNthFromEnd function\n",
    "new_head = removeNthFromEnd(head, n)\n",
    "\n",
    "# Print the modified linked list\n",
    "print(\"Linked List after removing the nth node from the end:\")\n",
    "print_linked_list(new_head)\n"
   ]
  },
  {
   "cell_type": "markdown",
   "id": "3e97b0c1-6400-47a8-80d1-75a6d8735191",
   "metadata": {},
   "source": [
    "Problem 4: Find the intersection point of two linked lists."
   ]
  },
  {
   "cell_type": "code",
   "execution_count": 13,
   "id": "ec8b4483-f527-40ce-ae2f-c123ec279554",
   "metadata": {},
   "outputs": [],
   "source": [
    "def getIntersectionNode(headA, headB):\n",
    "    if not headA or not headB:\n",
    "        return None\n",
    "\n",
    "    a, b = headA, headB\n",
    "\n",
    "    while a != b:\n",
    "        a = a.next if a else headB\n",
    "        b = b.next if b else headA\n",
    "\n",
    "    return a\n"
   ]
  },
  {
   "cell_type": "code",
   "execution_count": 14,
   "id": "84935cd7-2afd-487c-86c2-38664b48a96a",
   "metadata": {},
   "outputs": [
    {
     "name": "stdout",
     "output_type": "stream",
     "text": [
      "Linked List A:\n",
      "4 -> 1 -> 8 -> 10\n",
      "Linked List B:\n",
      "5 -> 6 -> 1 -> 8 -> 10\n",
      "The intersection node's value is: 8\n"
     ]
    }
   ],
   "source": [
    "class ListNode:\n",
    "    def __init__(self, val=0, next=None):\n",
    "        self.val = val\n",
    "        self.next = next\n",
    "# Step 1: Create two linked lists with an intersection\n",
    "\n",
    "# Helper function to print the linked list (for debugging purposes)\n",
    "def print_linked_list(head):\n",
    "    current = head\n",
    "    while current:\n",
    "        print(current.val, end=\" -> \" if current.next else \"\")\n",
    "        current = current.next\n",
    "    print()\n",
    "\n",
    "# Create nodes for the intersection\n",
    "intersecting_node1 = ListNode(8)\n",
    "intersecting_node2 = ListNode(10)\n",
    "\n",
    "# Link the intersecting nodes\n",
    "intersecting_node1.next = intersecting_node2\n",
    "\n",
    "# Create the first linked list: 4 -> 1 -> 8 -> 10\n",
    "headA = ListNode(4)\n",
    "headA.next = ListNode(1)\n",
    "headA.next.next = intersecting_node1\n",
    "\n",
    "# Create the second linked list: 5 -> 6 -> 1 -> 8 -> 10\n",
    "headB = ListNode(5)\n",
    "headB.next = ListNode(6)\n",
    "headB.next.next = ListNode(1)\n",
    "headB.next.next.next = intersecting_node1\n",
    "\n",
    "# Print the linked lists\n",
    "print(\"Linked List A:\")\n",
    "print_linked_list(headA)\n",
    "print(\"Linked List B:\")\n",
    "print_linked_list(headB)\n",
    "\n",
    "# Step 2: Call the getIntersectionNode function\n",
    "intersection = getIntersectionNode(headA, headB)\n",
    "\n",
    "# Step 3: Print the result\n",
    "if intersection:\n",
    "    print(f\"The intersection node's value is: {intersection.val}\")\n",
    "else:\n",
    "    print(\"No intersection found.\")\n"
   ]
  },
  {
   "cell_type": "markdown",
   "id": "5fb7ea47-67ed-47cb-8d2b-d18a1947a519",
   "metadata": {},
   "source": [
    "Problem 5: Remove duplicates from a sorted linked list."
   ]
  },
  {
   "cell_type": "code",
   "execution_count": 15,
   "id": "deeeb2dc-a597-4280-abd6-603ad2ec4ef7",
   "metadata": {},
   "outputs": [],
   "source": [
    "def deleteDuplicates(head):\n",
    "    current = head\n",
    "    while current and current.next:\n",
    "        if current.val == current.next.val:\n",
    "            current.next = current.next.next\n",
    "        else:\n",
    "            current = current.next\n",
    "    return head\n"
   ]
  },
  {
   "cell_type": "code",
   "execution_count": 16,
   "id": "085c9a1b-a34e-4ffa-a16c-50501fbb04d4",
   "metadata": {},
   "outputs": [
    {
     "name": "stdout",
     "output_type": "stream",
     "text": [
      "Original Linked List:\n",
      "1 -> 1 -> 2 -> 3 -> 3 -> 4 -> 4 -> 4 -> 5\n",
      "Linked List after removing duplicates:\n",
      "1 -> 2 -> 3 -> 4 -> 5\n"
     ]
    }
   ],
   "source": [
    "# Step 1: Define the ListNode class\n",
    "class ListNode:\n",
    "    def __init__(self, val=0, next=None):\n",
    "        self.val = val\n",
    "        self.next = next\n",
    "\n",
    "# Step 2: Helper function to create a linked list from a list of values\n",
    "def create_linked_list(values):\n",
    "    if not values:\n",
    "        return None\n",
    "    head = ListNode(values[0])\n",
    "    current = head\n",
    "    for value in values[1:]:\n",
    "        current.next = ListNode(value)\n",
    "        current = current.next\n",
    "    return head\n",
    "\n",
    "# Helper function to print the linked list (for debugging purposes)\n",
    "def print_linked_list(head):\n",
    "    current = head\n",
    "    while current:\n",
    "        print(current.val, end=\" -> \" if current.next else \"\")\n",
    "        current = current.next\n",
    "    print()\n",
    "\n",
    "# Step 3: Use the functions\n",
    "values = [1, 1, 2, 3, 3, 4, 4, 4, 5]  # Example sorted list with duplicates\n",
    "\n",
    "# Create the linked list\n",
    "head = create_linked_list(values)\n",
    "\n",
    "# Print the original linked list\n",
    "print(\"Original Linked List:\")\n",
    "print_linked_list(head)\n",
    "\n",
    "# Call the deleteDuplicates function\n",
    "new_head = deleteDuplicates(head)\n",
    "\n",
    "# Print the modified linked list\n",
    "print(\"Linked List after removing duplicates:\")\n",
    "print_linked_list(new_head)\n"
   ]
  },
  {
   "cell_type": "markdown",
   "id": "be1cdeb6-b56e-4c8f-81c6-954816a5ed19",
   "metadata": {},
   "source": [
    "Problem 6: Add two numbers represented by linked lists (where each node contains a single digit)."
   ]
  },
  {
   "cell_type": "code",
   "execution_count": 17,
   "id": "01cff624-bfad-4fb6-a7f5-3ca34df33570",
   "metadata": {},
   "outputs": [],
   "source": [
    "def addTwoNumbers(l1, l2):\n",
    "    dummy = ListNode()\n",
    "    current = dummy\n",
    "    carry = 0\n",
    "\n",
    "    while l1 or l2 or carry:\n",
    "        v1 = l1.val if l1 else 0\n",
    "        v2 = l2.val if l2 else 0\n",
    "        val = v1 + v2 + carry\n",
    "        carry = val // 10\n",
    "        val = val % 10\n",
    "        current.next = ListNode(val)\n",
    "        current = current.next\n",
    "\n",
    "        l1 = l1.next if l1 else None\n",
    "        l2 = l2.next if l2 else None\n",
    "\n",
    "    return dummy.next\n"
   ]
  },
  {
   "cell_type": "code",
   "execution_count": 18,
   "id": "36960e69-12a5-4916-a687-361dc652a569",
   "metadata": {},
   "outputs": [
    {
     "name": "stdout",
     "output_type": "stream",
     "text": [
      "Linked List 1:\n",
      "2 -> 4 -> 3\n",
      "Linked List 2:\n",
      "5 -> 6 -> 4\n",
      "Resultant Linked List:\n",
      "7 -> 0 -> 8\n"
     ]
    }
   ],
   "source": [
    "# Step 1: Define the ListNode class\n",
    "class ListNode:\n",
    "    def __init__(self, val=0, next=None):\n",
    "        self.val = val\n",
    "        self.next = next\n",
    "\n",
    "# Step 2: Helper function to create a linked list from a list of digits\n",
    "def create_linked_list(values):\n",
    "    if not values:\n",
    "        return None\n",
    "    head = ListNode(values[0])\n",
    "    current = head\n",
    "    for value in values[1:]:\n",
    "        current.next = ListNode(value)\n",
    "        current = current.next\n",
    "    return head\n",
    "\n",
    "# Helper function to print the linked list (for debugging purposes)\n",
    "def print_linked_list(head):\n",
    "    current = head\n",
    "    while current:\n",
    "        print(current.val, end=\" -> \" if current.next else \"\")\n",
    "        current = current.next\n",
    "    print()\n",
    "\n",
    "# Step 3: Use the functions\n",
    "# Example: Adding the numbers 342 and 465, represented as [2,4,3] and [5,6,4]\n",
    "l1_values = [2, 4, 3]  # Represents the number 342 (in reverse order)\n",
    "l2_values = [5, 6, 4]  # Represents the number 465 (in reverse order)\n",
    "\n",
    "# Create the linked lists\n",
    "l1 = create_linked_list(l1_values)\n",
    "l2 = create_linked_list(l2_values)\n",
    "\n",
    "# Print the original linked lists\n",
    "print(\"Linked List 1:\")\n",
    "print_linked_list(l1)\n",
    "print(\"Linked List 2:\")\n",
    "print_linked_list(l2)\n",
    "\n",
    "# Call the addTwoNumbers function\n",
    "result = addTwoNumbers(l1, l2)\n",
    "\n",
    "# Print the result linked list\n",
    "print(\"Resultant Linked List:\")\n",
    "print_linked_list(result)\n"
   ]
  },
  {
   "cell_type": "markdown",
   "id": "041a51ca-782e-4154-96c3-40d1bf473abe",
   "metadata": {},
   "source": [
    "Problem 7: Swap nodes in pairs in a linked list."
   ]
  },
  {
   "cell_type": "code",
   "execution_count": 19,
   "id": "d04e9be2-b6d7-4c63-936d-cde6a1bb5b9e",
   "metadata": {},
   "outputs": [],
   "source": [
    "def swapPairs(head):\n",
    "    dummy = ListNode(0)\n",
    "    dummy.next = head\n",
    "    prev = dummy\n",
    "\n",
    "    while head and head.next:\n",
    "        first = head\n",
    "        second = head.next\n",
    "\n",
    "        prev.next = second\n",
    "        first.next = second.next\n",
    "        second.next = first\n",
    "\n",
    "        prev = first\n",
    "        head = first.next\n",
    "\n",
    "    return dummy.next\n"
   ]
  },
  {
   "cell_type": "code",
   "execution_count": 20,
   "id": "c21c5124-503a-4861-aa2a-e0ef5f81232b",
   "metadata": {},
   "outputs": [
    {
     "name": "stdout",
     "output_type": "stream",
     "text": [
      "Original Linked List:\n",
      "1 -> 2 -> 3 -> 4 -> 5\n",
      "Linked List after swapping pairs:\n",
      "2 -> 1 -> 4 -> 3 -> 5\n"
     ]
    }
   ],
   "source": [
    "# Step 1: Define the ListNode class\n",
    "class ListNode:\n",
    "    def __init__(self, val=0, next=None):\n",
    "        self.val = val\n",
    "        self.next = next\n",
    "\n",
    "# Step 2: Helper function to create a linked list from a list of values\n",
    "def create_linked_list(values):\n",
    "    if not values:\n",
    "        return None\n",
    "    head = ListNode(values[0])\n",
    "    current = head\n",
    "    for value in values[1:]:\n",
    "        current.next = ListNode(value)\n",
    "        current = current.next\n",
    "    return head\n",
    "\n",
    "# Helper function to print the linked list (for debugging purposes)\n",
    "def print_linked_list(head):\n",
    "    current = head\n",
    "    while current:\n",
    "        print(current.val, end=\" -> \" if current.next else \"\")\n",
    "        current = current.next\n",
    "    print()\n",
    "\n",
    "# Step 3: Use the functions\n",
    "values = [1, 2, 3, 4, 5]  # Example list\n",
    "\n",
    "# Create the linked list\n",
    "head = create_linked_list(values)\n",
    "\n",
    "# Print the original linked list\n",
    "print(\"Original Linked List:\")\n",
    "print_linked_list(head)\n",
    "\n",
    "# Call the swapPairs function\n",
    "new_head = swapPairs(head)\n",
    "\n",
    "# Print the modified linked list\n",
    "print(\"Linked List after swapping pairs:\")\n",
    "print_linked_list(new_head)\n"
   ]
  },
  {
   "cell_type": "markdown",
   "id": "e25817f0-4e71-4682-98a3-cc697eb9f200",
   "metadata": {},
   "source": [
    "Problem 8: Reverse nodes in a linked list in groups of k."
   ]
  },
  {
   "cell_type": "code",
   "execution_count": 21,
   "id": "7547a3c1-5634-4751-bfec-bfe2d898e4a5",
   "metadata": {},
   "outputs": [],
   "source": [
    "def reverseKGroup(head, k):\n",
    "    def reverse_linked_list(head, k):\n",
    "        new_head, ptr = None, head\n",
    "        while k:\n",
    "            next_node = ptr.next\n",
    "            ptr.next = new_head\n",
    "            new_head = ptr\n",
    "            ptr = next_node\n",
    "            k -= 1\n",
    "        return new_head\n",
    "\n",
    "    count = 0\n",
    "    ptr = head\n",
    "    while count < k and ptr:\n",
    "        ptr = ptr.next\n",
    "        count += 1\n",
    "\n",
    "    if count == k:\n",
    "        reversed_head = reverse_linked_list(head, k)\n",
    "        head.next = reverseKGroup(ptr, k)\n",
    "        return reversed_head\n",
    "\n",
    "    return head\n"
   ]
  },
  {
   "cell_type": "code",
   "execution_count": 22,
   "id": "d6b1992a-aecd-4f56-99b5-05ab4e59852f",
   "metadata": {},
   "outputs": [
    {
     "name": "stdout",
     "output_type": "stream",
     "text": [
      "Original Linked List:\n",
      "1 -> 2 -> 3 -> 4 -> 5\n",
      "Linked List after reversing every k-group:\n",
      "2 -> 1 -> 4 -> 3 -> 5\n"
     ]
    }
   ],
   "source": [
    "# Step 1: Define the ListNode class\n",
    "class ListNode:\n",
    "    def __init__(self, val=0, next=None):\n",
    "        self.val = val\n",
    "        self.next = next\n",
    "\n",
    "# Step 2: Helper function to create a linked list from a list of values\n",
    "def create_linked_list(values):\n",
    "    if not values:\n",
    "        return None\n",
    "    head = ListNode(values[0])\n",
    "    current = head\n",
    "    for value in values[1:]:\n",
    "        current.next = ListNode(value)\n",
    "        current = current.next\n",
    "    return head\n",
    "\n",
    "# Helper function to print the linked list (for debugging purposes)\n",
    "def print_linked_list(head):\n",
    "    current = head\n",
    "    while current:\n",
    "        print(current.val, end=\" -> \" if current.next else \"\")\n",
    "        current = current.next\n",
    "    print()\n",
    "\n",
    "# Step 3: Use the functions\n",
    "values = [1, 2, 3, 4, 5]  # Example list\n",
    "k = 2  # Example group size for reversal\n",
    "\n",
    "# Create the linked list\n",
    "head = create_linked_list(values)\n",
    "\n",
    "# Print the original linked list\n",
    "print(\"Original Linked List:\")\n",
    "print_linked_list(head)\n",
    "\n",
    "# Call the reverseKGroup function\n",
    "new_head = reverseKGroup(head, k)\n",
    "\n",
    "# Print the modified linked list\n",
    "print(\"Linked List after reversing every k-group:\")\n",
    "print_linked_list(new_head)\n"
   ]
  },
  {
   "cell_type": "markdown",
   "id": "e83db4c1-1f19-4423-af03-cbbf8b8362e7",
   "metadata": {},
   "source": [
    "Problem 9: Determine if a linked list is a palindrome."
   ]
  },
  {
   "cell_type": "code",
   "execution_count": 59,
   "id": "eeca4bc9-c93c-445d-a3d9-bd2e74354da1",
   "metadata": {},
   "outputs": [],
   "source": [
    "def isPalindrome(head):\n",
    "    fast = slow = head\n",
    "    prev = None\n",
    "\n",
    "    while fast and fast.next:\n",
    "        fast = fast.next.next\n",
    "        next_node = slow.next\n",
    "        slow.next = prev\n",
    "        prev = slow\n",
    "        slow = next_node\n",
    "\n",
    "    if fast:\n",
    "        slow = slow.next\n",
    "\n",
    "    while prev and prev.val == slow.val:\n",
    "        slow = slow.next\n",
    "        prev = prev.next\n",
    "\n",
    "    return prev is None\n"
   ]
  },
  {
   "cell_type": "code",
   "execution_count": 25,
   "id": "e5c64bed-cbe4-4497-b058-777b08dc0fd8",
   "metadata": {},
   "outputs": [
    {
     "name": "stdout",
     "output_type": "stream",
     "text": [
      "Linked List:\n",
      "1 -> 2 -> 3 -> 2 -> 1\n",
      "Is the linked list a palindrome?\n",
      "True\n"
     ]
    }
   ],
   "source": [
    "# Step 1: Define the ListNode class\n",
    "class ListNode:\n",
    "    def __init__(self, val=0, next=None):\n",
    "        self.val = val\n",
    "        self.next = next\n",
    "\n",
    "# Step 2: Helper function to create a linked list from a list of values\n",
    "def create_linked_list(values):\n",
    "    if not values:\n",
    "        return None\n",
    "    head = ListNode(values[0])\n",
    "    current = head\n",
    "    for value in values[1:]:\n",
    "        current.next = ListNode(value)\n",
    "        current = current.next\n",
    "    return head\n",
    "\n",
    "# Helper function to print the linked list (for debugging purposes)\n",
    "def print_linked_list(head):\n",
    "    current = head\n",
    "    while current:\n",
    "        print(current.val, end=\" -> \" if current.next else \"\")\n",
    "        current = current.next\n",
    "    print()\n",
    "\n",
    "# Step 3: Use the functions\n",
    "values = [1, 2, 3, 2, 1]  # Example list (palindrome)\n",
    "# values = [1, 2, 3, 4, 5]  # Example list (not a palindrome)\n",
    "\n",
    "# Create the linked list\n",
    "head = create_linked_list(values)\n",
    "\n",
    "# Print the linked list\n",
    "print(\"Linked List:\")\n",
    "print_linked_list(head)\n",
    "\n",
    "# Call the isPalindrome function\n",
    "result = isPalindrome(head)\n",
    "\n",
    "# Print the result\n",
    "print(\"Is the linked list a palindrome?\")\n",
    "print(result)  # Should print True if the list is a palindrome, False otherwise\n"
   ]
  },
  {
   "cell_type": "markdown",
   "id": "2b3e7462-af86-48f7-ac6a-461cc8c574cc",
   "metadata": {},
   "source": [
    "Problem 10: Rotate a linked list to the right by k places."
   ]
  },
  {
   "cell_type": "code",
   "execution_count": 26,
   "id": "518745f3-cc04-4f5e-abf4-3f8fe624a7c6",
   "metadata": {},
   "outputs": [],
   "source": [
    "def rotateRight(head, k):\n",
    "    if not head or not head.next:\n",
    "        return head\n",
    "\n",
    "    length = 1\n",
    "    tail = head\n",
    "    while tail.next:\n",
    "        tail = tail.next\n",
    "        length += 1\n",
    "\n",
    "    k %= length\n",
    "    if k == 0:\n",
    "        return head\n",
    "\n",
    "    tail.next = head\n",
    "    for _ in range(length - k):\n",
    "        tail = tail.next\n",
    "\n",
    "    new_head = tail.next\n",
    "    tail.next = None\n",
    "    return new_head\n"
   ]
  },
  {
   "cell_type": "code",
   "execution_count": 27,
   "id": "4e7f914f-8921-4b68-8d6e-1580bc9dac03",
   "metadata": {},
   "outputs": [
    {
     "name": "stdout",
     "output_type": "stream",
     "text": [
      "Original Linked List:\n",
      "1 -> 2 -> 3 -> 4 -> 5\n",
      "Linked List after rotating right by k positions:\n",
      "4 -> 5 -> 1 -> 2 -> 3\n"
     ]
    }
   ],
   "source": [
    "# Step 1: Define the ListNode class\n",
    "class ListNode:\n",
    "    def __init__(self, val=0, next=None):\n",
    "        self.val = val\n",
    "        self.next = next\n",
    "\n",
    "# Step 2: Helper function to create a linked list from a list of values\n",
    "def create_linked_list(values):\n",
    "    if not values:\n",
    "        return None\n",
    "    head = ListNode(values[0])\n",
    "    current = head\n",
    "    for value in values[1:]:\n",
    "        current.next = ListNode(value)\n",
    "        current = current.next\n",
    "    return head\n",
    "\n",
    "# Helper function to print the linked list (for debugging purposes)\n",
    "def print_linked_list(head):\n",
    "    current = head\n",
    "    while current:\n",
    "        print(current.val, end=\" -> \" if current.next else \"\")\n",
    "        current = current.next\n",
    "    print()\n",
    "\n",
    "# Step 3: Use the functions\n",
    "values = [1, 2, 3, 4, 5]  # Example list\n",
    "k = 2  # Example number of positions to rotate\n",
    "\n",
    "# Create the linked list\n",
    "head = create_linked_list(values)\n",
    "\n",
    "# Print the original linked list\n",
    "print(\"Original Linked List:\")\n",
    "print_linked_list(head)\n",
    "\n",
    "# Call the rotateRight function\n",
    "new_head = rotateRight(head, k)\n",
    "\n",
    "# Print the rotated linked list\n",
    "print(\"Linked List after rotating right by k positions:\")\n",
    "print_linked_list(new_head)\n"
   ]
  },
  {
   "cell_type": "markdown",
   "id": "9c60a295-822a-4782-906e-35cb03b64687",
   "metadata": {},
   "source": [
    "Problem 11: Flatten a multilevel doubly linked list."
   ]
  },
  {
   "cell_type": "code",
   "execution_count": 28,
   "id": "e77b7e2d-0099-430f-971d-e0bc3611714d",
   "metadata": {},
   "outputs": [],
   "source": [
    "class Node:\n",
    "    def __init__(self, val, prev=None, next=None, child=None):\n",
    "        self.val = val\n",
    "        self.prev = prev\n",
    "        self.next = next\n",
    "        self.child = child\n",
    "\n",
    "def flatten(head):\n",
    "    if not head:\n",
    "        return head\n",
    "\n",
    "    stack = []\n",
    "    current = head\n",
    "\n",
    "    while current:\n",
    "        if current.child:\n",
    "            if current.next:\n",
    "                stack.append(current.next)\n",
    "            current.next = current.child\n",
    "            if current.next:\n",
    "                current.next.prev = current\n",
    "            current.child = None\n",
    "\n",
    "        if not current.next and stack:\n",
    "            current.next = stack.pop()\n",
    "            current.next.prev = current\n",
    "\n",
    "        current = current.next\n",
    "\n",
    "    return head\n"
   ]
  },
  {
   "cell_type": "code",
   "execution_count": 29,
   "id": "a8452a19-cd8a-4a91-b50e-55cf504c7cae",
   "metadata": {},
   "outputs": [
    {
     "name": "stdout",
     "output_type": "stream",
     "text": [
      "Original Multilevel List:\n",
      "1 -> 2 -> 4 -> 7 -> 5 -> 6\n",
      "Flattened List:\n",
      "1 -> [2, 3] -> 2 -> [4, [5, 6]] -> 4 -> [7] -> 7 -> 5 -> 6\n"
     ]
    }
   ],
   "source": [
    "# Step 1: Define the Node class\n",
    "class Node:\n",
    "    def __init__(self, val, prev=None, next=None, child=None):\n",
    "        self.val = val\n",
    "        self.prev = prev\n",
    "        self.next = next\n",
    "        self.child = child\n",
    "\n",
    "# Helper function to print the flattened list (for debugging purposes)\n",
    "def print_flattened_list(head):\n",
    "    current = head\n",
    "    while current:\n",
    "        print(current.val, end=\" -> \" if current.next else \"\")\n",
    "        current = current.next\n",
    "    print()\n",
    "\n",
    "# Helper function to create a multilevel doubly linked list\n",
    "def create_multilevel_list(values):\n",
    "    if not values:\n",
    "        return None\n",
    "\n",
    "    head = Node(values[0][0])\n",
    "    current = head\n",
    "    nodes = [head]\n",
    "\n",
    "    for val in values[1:]:\n",
    "        new_node = Node(val[0])\n",
    "        current.next = new_node\n",
    "        new_node.prev = current\n",
    "        current = new_node\n",
    "        nodes.append(new_node)\n",
    "\n",
    "    for i, child_list in enumerate(values):\n",
    "        if len(child_list) > 1:\n",
    "            nodes[i].child = create_multilevel_list([child_list[1:]])\n",
    "\n",
    "    return head\n",
    "\n",
    "# Step 2: Create a multilevel linked list\n",
    "# Example structure: [1, [2, 3], [4, [5, 6]], 7]\n",
    "# Represents: 1 - 2 - 3 - 4 - 7\n",
    "#                           |\n",
    "#                           5 - 6\n",
    "head = create_multilevel_list([\n",
    "    [1, [2, 3]],   # Node 1 with child [2, 3]\n",
    "    [2, [4, [5, 6]]],  # Node 2 with child [4, [5, 6]]\n",
    "    [4, [7]],  # Node 4 with child [7]\n",
    "    [7],  # Node 7 with no child\n",
    "    [5],  # Node 5 with no child\n",
    "    [6]   # Node 6 with no child\n",
    "])\n",
    "\n",
    "# Print the original multilevel list (for debugging purposes)\n",
    "print(\"Original Multilevel List:\")\n",
    "print_flattened_list(head)\n",
    "\n",
    "# Step 3: Call the flatten function\n",
    "flattened_head = flatten(head)\n",
    "\n",
    "# Print the flattened list\n",
    "print(\"Flattened List:\")\n",
    "print_flattened_list(flattened_head)\n"
   ]
  },
  {
   "cell_type": "markdown",
   "id": "3d2ec244-0aca-448d-b596-b65adab2909d",
   "metadata": {},
   "source": [
    "Problem 12: Rearrange a linked list such that all even positioned nodes are placed at the end."
   ]
  },
  {
   "cell_type": "code",
   "execution_count": 30,
   "id": "ab883800-fa19-440c-8728-80b5b5777b68",
   "metadata": {},
   "outputs": [],
   "source": [
    "def oddEvenList(head):\n",
    "    if not head:\n",
    "        return head\n",
    "\n",
    "    odd = head\n",
    "    even = head.next\n",
    "    even_head = even\n",
    "\n",
    "    while even and even.next:\n",
    "        odd.next = even.next\n",
    "        odd = odd.next\n",
    "        even.next = odd.next\n",
    "        even = even.next\n",
    "\n",
    "    odd.next = even_head\n",
    "    return head\n"
   ]
  },
  {
   "cell_type": "code",
   "execution_count": 31,
   "id": "3558bbe5-e452-4718-a8bd-6de21924e04f",
   "metadata": {},
   "outputs": [
    {
     "name": "stdout",
     "output_type": "stream",
     "text": [
      "Original Linked List:\n",
      "1 -> 2 -> 3 -> 4 -> 5 -> 6 -> 7\n",
      "Linked List after rearranging odd and even nodes:\n",
      "1 -> 3 -> 5 -> 7 -> 2 -> 4 -> 6\n"
     ]
    }
   ],
   "source": [
    "# Step 1: Define the ListNode class\n",
    "class ListNode:\n",
    "    def __init__(self, val=0, next=None):\n",
    "        self.val = val\n",
    "        self.next = next\n",
    "\n",
    "# Helper function to create a linked list from a list of values\n",
    "def create_linked_list(values):\n",
    "    if not values:\n",
    "        return None\n",
    "    head = ListNode(values[0])\n",
    "    current = head\n",
    "    for value in values[1:]:\n",
    "        current.next = ListNode(value)\n",
    "        current = current.next\n",
    "    return head\n",
    "\n",
    "# Helper function to print the linked list (for debugging purposes)\n",
    "def print_linked_list(head):\n",
    "    current = head\n",
    "    while current:\n",
    "        print(current.val, end=\" -> \" if current.next else \"\")\n",
    "        current = current.next\n",
    "    print()\n",
    "\n",
    "# Step 2: Use the functions\n",
    "values = [1, 2, 3, 4, 5, 6, 7]  # Example list\n",
    "\n",
    "# Create the linked list\n",
    "head = create_linked_list(values)\n",
    "\n",
    "# Print the original linked list\n",
    "print(\"Original Linked List:\")\n",
    "print_linked_list(head)\n",
    "\n",
    "# Call the oddEvenList function\n",
    "new_head = oddEvenList(head)\n",
    "\n",
    "# Print the rearranged linked list\n",
    "print(\"Linked List after rearranging odd and even nodes:\")\n",
    "print_linked_list(new_head)\n"
   ]
  },
  {
   "cell_type": "markdown",
   "id": "53e6318b-241c-40bf-b2e2-330f9ac39989",
   "metadata": {},
   "source": [
    "Problem 13: Given a non-negative number represented as a linked list, add one to it."
   ]
  },
  {
   "cell_type": "code",
   "execution_count": 32,
   "id": "e21a67a6-3a82-404a-ad85-e994c4d3203b",
   "metadata": {},
   "outputs": [],
   "source": [
    "def addOne(head):\n",
    "    def reverse_list(head):\n",
    "        prev = None\n",
    "        current = head\n",
    "        while current:\n",
    "            next_node = current.next\n",
    "            current.next = prev\n",
    "            prev = current\n",
    "            current = next_node\n",
    "        return prev\n",
    "\n",
    "    head = reverse_list(head)\n",
    "    current = head\n",
    "    carry = 1\n",
    "\n",
    "    while current:\n",
    "        current.val += carry\n",
    "        carry = current.val // 10\n",
    "        current.val %= 10\n",
    "        prev = current\n",
    "        current = current.next\n",
    "\n",
    "    if carry:\n",
    "        prev.next = ListNode(carry)\n",
    "\n",
    "    return reverse_list(head)\n"
   ]
  },
  {
   "cell_type": "code",
   "execution_count": 33,
   "id": "d8154946-5f4a-4f66-b6d1-478ae7f70bfe",
   "metadata": {},
   "outputs": [
    {
     "name": "stdout",
     "output_type": "stream",
     "text": [
      "Original Linked List:\n",
      "9 -> 9 -> 9\n",
      "Linked List after adding one:\n",
      "1 -> 0 -> 0 -> 0\n"
     ]
    }
   ],
   "source": [
    "# Step 1: Define the ListNode class\n",
    "class ListNode:\n",
    "    def __init__(self, val=0, next=None):\n",
    "        self.val = val\n",
    "        self.next = next\n",
    "\n",
    "# Helper function to create a linked list from a list of values\n",
    "def create_linked_list(values):\n",
    "    if not values:\n",
    "        return None\n",
    "    head = ListNode(values[0])\n",
    "    current = head\n",
    "    for value in values[1:]:\n",
    "        current.next = ListNode(value)\n",
    "        current = current.next\n",
    "    return head\n",
    "\n",
    "# Helper function to print the linked list (for debugging purposes)\n",
    "def print_linked_list(head):\n",
    "    current = head\n",
    "    while current:\n",
    "        print(current.val, end=\" -> \" if current.next else \"\")\n",
    "        current = current.next\n",
    "    print()\n",
    "\n",
    "# Step 2: Use the functions\n",
    "values = [9, 9, 9]  # Example list representing the number 999\n",
    "\n",
    "# Create the linked list\n",
    "head = create_linked_list(values)\n",
    "\n",
    "# Print the original linked list\n",
    "print(\"Original Linked List:\")\n",
    "print_linked_list(head)\n",
    "\n",
    "# Call the addOne function\n",
    "new_head = addOne(head)\n",
    "\n",
    "# Print the linked list after adding one\n",
    "print(\"Linked List after adding one:\")\n",
    "print_linked_list(new_head)\n"
   ]
  },
  {
   "cell_type": "markdown",
   "id": "5ae89e5e-286b-4e42-930a-063a2f1c7ec0",
   "metadata": {},
   "source": [
    "Problem 14: Given a sorted array and a target value, return the index if the target is found. If not, return the\n",
    "index where it would be inserted."
   ]
  },
  {
   "cell_type": "code",
   "execution_count": 61,
   "id": "8719289e-1f76-4083-94b1-9f86163098e2",
   "metadata": {},
   "outputs": [
    {
     "name": "stdout",
     "output_type": "stream",
     "text": [
      "The index to insert or the index of the target is: 2\n"
     ]
    }
   ],
   "source": [
    "def searchInsert(nums, target):\n",
    "    left, right = 0, len(nums) - 1\n",
    "\n",
    "    while left <= right:\n",
    "        mid = (left + right) // 2\n",
    "        if nums[mid] == target:\n",
    "            return mid\n",
    "        elif nums[mid] < target:\n",
    "            left = mid + 1\n",
    "        else:\n",
    "            right = mid - 1\n",
    "\n",
    "    return left\n",
    "# Step 2: Use the function\n",
    "nums = [1, 3, 5, 6]  # Example sorted list\n",
    "target = 5  # Example target value\n",
    "\n",
    "# Call the searchInsert function\n",
    "index = searchInsert(nums, target)\n",
    "\n",
    "# Print the result\n",
    "print(\"The index to insert or the index of the target is:\", index)"
   ]
  },
  {
   "cell_type": "markdown",
   "id": "881bb732-b2bf-497c-b394-c2df88c7770b",
   "metadata": {},
   "source": [
    "Problem 15: Find the minimum element in a rotated sorted array."
   ]
  },
  {
   "cell_type": "code",
   "execution_count": 37,
   "id": "26dad660-db7d-45ce-9bc7-1c57bd5a59d1",
   "metadata": {},
   "outputs": [
    {
     "name": "stdout",
     "output_type": "stream",
     "text": [
      "The minimum value in the rotated sorted array is: 0\n"
     ]
    }
   ],
   "source": [
    "def findMin(nums):\n",
    "    left, right = 0, len(nums) - 1\n",
    "\n",
    "    while left < right:\n",
    "        mid = (left + right) // 2\n",
    "        if nums[mid] > nums[right]:\n",
    "            left = mid + 1\n",
    "        else:\n",
    "            right = mid\n",
    "\n",
    "    return nums[left]\n",
    "# Step 2: Use the function\n",
    "nums = [4, 5, 6, 7, 0, 1, 2]  # Example rotated sorted array\n",
    "\n",
    "# Call the findMin function\n",
    "min_value = findMin(nums)\n",
    "\n",
    "# Print the result\n",
    "print(\"The minimum value in the rotated sorted array is:\", min_value)"
   ]
  },
  {
   "cell_type": "markdown",
   "id": "f90ea49f-ed5a-4cb3-a1d6-ad5a7d3fdf51",
   "metadata": {},
   "source": [
    "Problem 16: Search for a target value in a rotated sorted array."
   ]
  },
  {
   "cell_type": "code",
   "execution_count": 39,
   "id": "a4db6188-e58a-4482-ac2d-987802ccf23d",
   "metadata": {},
   "outputs": [
    {
     "name": "stdout",
     "output_type": "stream",
     "text": [
      "The index of the target value is: 4\n"
     ]
    }
   ],
   "source": [
    "def search(nums, target):\n",
    "    left, right = 0, len(nums) - 1\n",
    "\n",
    "    while left <= right:\n",
    "        mid = (left + right) // 2\n",
    "        if nums[mid] == target:\n",
    "            return mid\n",
    "        if nums[left] <= nums[mid]:\n",
    "            if nums[left] <= target < nums[mid]:\n",
    "                right = mid - 1\n",
    "            else:\n",
    "                left = mid + 1\n",
    "        else:\n",
    "            if nums[mid] < target <= nums[right]:\n",
    "                left = mid + 1\n",
    "            else:\n",
    "                right = mid - 1\n",
    "\n",
    "    return -1\n",
    "# Step 2: Use the function\n",
    "nums = [4, 5, 6, 7, 0, 1, 2]  # Example rotated sorted array\n",
    "target = 0  # Example target value\n",
    "\n",
    "# Call the search function\n",
    "index = search(nums, target)\n",
    "\n",
    "# Print the result\n",
    "print(\"The index of the target value is:\", index)"
   ]
  },
  {
   "cell_type": "markdown",
   "id": "7f346d23-d167-442f-8e40-9b50fd066411",
   "metadata": {},
   "source": [
    "Problem 17: Find the peak element in an array. A peak element is greater than its neighbors."
   ]
  },
  {
   "cell_type": "code",
   "execution_count": 41,
   "id": "c4296cea-d2f5-4132-9c41-d06722d32bc9",
   "metadata": {},
   "outputs": [
    {
     "name": "stdout",
     "output_type": "stream",
     "text": [
      "The index of a peak element is: 2\n",
      "The peak element is: 3\n"
     ]
    }
   ],
   "source": [
    "def findPeakElement(nums):\n",
    "    left, right = 0, len(nums) - 1\n",
    "\n",
    "    while left < right:\n",
    "        mid = (left + right) // 2\n",
    "        if nums[mid] > nums[mid + 1]:\n",
    "            right = mid\n",
    "        else:\n",
    "            left = mid + 1\n",
    "\n",
    "    return left\n",
    "# Step 2: Use the function\n",
    "nums = [1, 2, 3, 1]  # Example list where the peak element is 3\n",
    "\n",
    "# Call the findPeakElement function\n",
    "peak_index = findPeakElement(nums)\n",
    "\n",
    "# Print the result\n",
    "print(\"The index of a peak element is:\", peak_index)\n",
    "print(\"The peak element is:\", nums[peak_index])"
   ]
  },
  {
   "cell_type": "markdown",
   "id": "f386b2ce-3812-428b-842f-643ff3fdf95d",
   "metadata": {},
   "source": [
    "Problem 18: Given a m x n matrix where each row and column is sorted in ascending order, count the number\n",
    "of negative numbers."
   ]
  },
  {
   "cell_type": "code",
   "execution_count": 42,
   "id": "bc137aab-780f-4690-b18b-89c48f000b8d",
   "metadata": {},
   "outputs": [
    {
     "name": "stdout",
     "output_type": "stream",
     "text": [
      "Number of negative numbers: 16\n"
     ]
    }
   ],
   "source": [
    "# Define the function to count negative numbers\n",
    "def countNegatives(grid):\n",
    "    if not grid or not grid[0]:\n",
    "        return 0\n",
    "\n",
    "    rows, cols = len(grid), len(grid[0])\n",
    "    count = 0\n",
    "    row, col = 0, cols - 1\n",
    "\n",
    "    while row < rows and col >= 0:\n",
    "        if grid[row][col] < 0:\n",
    "            # All elements in the current column from (row, col) to (row, 0) are negative\n",
    "            count += (col + 1)\n",
    "            # Move to the next row\n",
    "            row += 1\n",
    "        else:\n",
    "            # Move left\n",
    "            col -= 1\n",
    "\n",
    "    return count\n",
    "\n",
    "# Example usage\n",
    "# Define a sorted matrix\n",
    "matrix = [\n",
    "    [ 4,  3,  2, -1],\n",
    "    [ 3,  2,  1, -1],\n",
    "    [ 1,  1, -1, -2],\n",
    "    [-1, -1, -2, -3]\n",
    "]\n",
    "\n",
    "# Call the function with the matrix\n",
    "negative_count = countNegatives(matrix)\n",
    "\n",
    "# Print the result\n",
    "print(f\"Number of negative numbers: {negative_count}\")\n"
   ]
  },
  {
   "cell_type": "markdown",
   "id": "585bb766-6044-435c-8856-5b69355e9e0a",
   "metadata": {},
   "source": [
    "Problem 19: Given a 2D matrix sorted in ascending order in each row, and the first integer of each row is\n",
    "greater than the last integer of the previous row, determine if a target value is present in the matrix."
   ]
  },
  {
   "cell_type": "code",
   "execution_count": 43,
   "id": "0b5830fa-f6e6-4745-a177-3e14141cdf7e",
   "metadata": {},
   "outputs": [
    {
     "name": "stdout",
     "output_type": "stream",
     "text": [
      "True\n"
     ]
    }
   ],
   "source": [
    "def searchMatrix(matrix, target):\n",
    "    if not matrix or not matrix[0]:\n",
    "        return False\n",
    "    \n",
    "    rows, cols = len(matrix), len(matrix[0])\n",
    "    row, col = 0, cols - 1\n",
    "    \n",
    "    while row < rows and col >= 0:\n",
    "        if matrix[row][col] == target:\n",
    "            return True\n",
    "        elif matrix[row][col] < target:\n",
    "            row += 1\n",
    "        else:\n",
    "            col -= 1\n",
    "    \n",
    "    return False\n",
    "\n",
    "# Example usage\n",
    "matrix = [[1, 3, 5, 7], [10, 11, 16, 20], [23, 30, 34, 60]]\n",
    "target = 3\n",
    "print(searchMatrix(matrix, target))  # Output: True\n"
   ]
  },
  {
   "cell_type": "markdown",
   "id": "02ab5b00-d492-44fb-84c5-cbbc963ca054",
   "metadata": {},
   "source": [
    "Problem 20: Find Median in Two Sorted Arrays\n",
    "Problem: Given two sorted arrays, find the median of the combined sorted array."
   ]
  },
  {
   "cell_type": "code",
   "execution_count": 44,
   "id": "bd0b6b26-bb60-4e37-bb00-e9e8c348a98d",
   "metadata": {},
   "outputs": [
    {
     "name": "stdout",
     "output_type": "stream",
     "text": [
      "2\n"
     ]
    }
   ],
   "source": [
    "def findMedianSortedArrays(nums1, nums2):\n",
    "    nums = sorted(nums1 + nums2)\n",
    "    n = len(nums)\n",
    "    if n % 2 == 1:\n",
    "        return nums[n // 2]\n",
    "    else:\n",
    "        return (nums[n // 2 - 1] + nums[n // 2]) / 2\n",
    "\n",
    "# Example usage\n",
    "nums1 = [1, 3]\n",
    "nums2 = [2]\n",
    "print(findMedianSortedArrays(nums1, nums2))  # Output: 2.0\n"
   ]
  },
  {
   "cell_type": "markdown",
   "id": "81053ff9-2bea-44d2-9ea5-02513f73425a",
   "metadata": {},
   "source": [
    "Problem 21: Given a sorted character array and a target letter, find the smallest letter in the array that is\n",
    "greater than the target."
   ]
  },
  {
   "cell_type": "code",
   "execution_count": 45,
   "id": "9d2d1bea-08eb-42a8-9386-2a6b18bb9d3f",
   "metadata": {},
   "outputs": [
    {
     "name": "stdout",
     "output_type": "stream",
     "text": [
      "c\n"
     ]
    }
   ],
   "source": [
    "def nextGreatestLetter(letters, target):\n",
    "    for letter in letters:\n",
    "        if letter > target:\n",
    "            return letter\n",
    "    return letters[0]\n",
    "\n",
    "# Example usage\n",
    "letters = ['c', 'f', 'j']\n",
    "target = 'a'\n",
    "print(nextGreatestLetter(letters, target))  # Output: 'c'\n"
   ]
  },
  {
   "cell_type": "markdown",
   "id": "6d4ed8e2-4a06-40f2-8095-314b8d3feb2e",
   "metadata": {},
   "source": [
    "Problem 22: Given an array with n objects colored red, white, or blue, sort them in-place so that objects of\n",
    "the same color are adjacent, with the colors in the order red, white, and blue."
   ]
  },
  {
   "cell_type": "code",
   "execution_count": 46,
   "id": "a30926b9-1274-431c-9894-b248bc6fc687",
   "metadata": {},
   "outputs": [
    {
     "name": "stdout",
     "output_type": "stream",
     "text": [
      "[0, 0, 1, 1, 2, 2]\n"
     ]
    }
   ],
   "source": [
    "def sortColors(nums):\n",
    "    red, white, blue = 0, 0, len(nums) - 1\n",
    "    \n",
    "    while white <= blue:\n",
    "        if nums[white] == 0:\n",
    "            nums[red], nums[white] = nums[white], nums[red]\n",
    "            red += 1\n",
    "            white += 1\n",
    "        elif nums[white] == 1:\n",
    "            white += 1\n",
    "        else:\n",
    "            nums[white], nums[blue] = nums[blue], nums[white]\n",
    "            blue -= 1\n",
    "\n",
    "# Example usage\n",
    "nums = [2, 0, 2, 1, 1, 0]\n",
    "sortColors(nums)\n",
    "print(nums)  # Output: [0, 0, 1, 1, 2, 2]\n"
   ]
  },
  {
   "cell_type": "markdown",
   "id": "4f3ee6fa-2a50-402a-bd57-5e9b9fdf9e95",
   "metadata": {},
   "source": [
    "Problem 23: Find the kth largest element in an unsorted array."
   ]
  },
  {
   "cell_type": "code",
   "execution_count": 47,
   "id": "1f73d442-d768-429f-9838-a2c880ae743a",
   "metadata": {},
   "outputs": [
    {
     "name": "stdout",
     "output_type": "stream",
     "text": [
      "5\n"
     ]
    }
   ],
   "source": [
    "import heapq\n",
    "\n",
    "def findKthLargest(nums, k):\n",
    "    return heapq.nlargest(k, nums)[-1]\n",
    "\n",
    "# Example usage\n",
    "nums = [3, 2, 1, 5, 6, 4]\n",
    "k = 2\n",
    "print(findKthLargest(nums, k))  # Output: 5\n"
   ]
  },
  {
   "cell_type": "markdown",
   "id": "c208a0ea-5500-4c57-9cd6-15c7d6fea4bb",
   "metadata": {},
   "source": [
    "Problem 24: Given an unsorted array, reorder it in-place such that nums[0] <= nums[1] >= nums[2] <=\n",
    "nums[3]..."
   ]
  },
  {
   "cell_type": "code",
   "execution_count": 48,
   "id": "f2ec88c7-5473-475a-9828-113f474e19ec",
   "metadata": {},
   "outputs": [
    {
     "name": "stdout",
     "output_type": "stream",
     "text": [
      "[3, 5, 1, 6, 2, 4]\n"
     ]
    }
   ],
   "source": [
    "def wiggleSort(nums):\n",
    "    for i in range(len(nums) - 1):\n",
    "        if (i % 2 == 0 and nums[i] > nums[i + 1]) or (i % 2 == 1 and nums[i] < nums[i + 1]):\n",
    "            nums[i], nums[i + 1] = nums[i + 1], nums[i]\n",
    "\n",
    "# Example usage\n",
    "nums = [3, 5, 2, 1, 6, 4]\n",
    "wiggleSort(nums)\n",
    "print(nums)  # Output: [3, 5, 1, 6, 2, 4]\n"
   ]
  },
  {
   "cell_type": "markdown",
   "id": "1c5c4c5c-fc60-4b1a-aeec-465e8a5f8214",
   "metadata": {},
   "source": [
    "Problem 25: Given an array of integers, calculate the sum of all its elements."
   ]
  },
  {
   "cell_type": "code",
   "execution_count": 49,
   "id": "243b9920-e6c6-4254-9c02-87df18c022d2",
   "metadata": {},
   "outputs": [
    {
     "name": "stdout",
     "output_type": "stream",
     "text": [
      "15\n"
     ]
    }
   ],
   "source": [
    "def arraySum(nums):\n",
    "    return sum(nums)\n",
    "\n",
    "# Example usage\n",
    "nums = [1, 2, 3, 4, 5]\n",
    "print(arraySum(nums))  # Output: 15\n"
   ]
  },
  {
   "cell_type": "markdown",
   "id": "10151d28-da5e-47a7-aa51-1dc91dde3b00",
   "metadata": {},
   "source": [
    "Problem 26: Find the maximum element in an array of integers.\n",
    "Input: [3, 7, 2, 9, 4, 1]\n",
    "Output: 9"
   ]
  },
  {
   "cell_type": "code",
   "execution_count": 50,
   "id": "2afdcd46-d7ac-4187-8322-3f7a7fc43610",
   "metadata": {},
   "outputs": [
    {
     "name": "stdout",
     "output_type": "stream",
     "text": [
      "9\n"
     ]
    }
   ],
   "source": [
    "def findMax(nums):\n",
    "    if not nums:\n",
    "        raise ValueError(\"The input array is empty.\")\n",
    "    \n",
    "    max_val = nums[0]\n",
    "    for num in nums[1:]:\n",
    "        if num > max_val:\n",
    "            max_val = num\n",
    "    return max_val\n",
    "\n",
    "# Example usage\n",
    "nums = [3, 7, 2, 9, 4, 1]\n",
    "print(findMax(nums))  # Output: 9\n"
   ]
  },
  {
   "cell_type": "markdown",
   "id": "34032f35-562a-442a-9a7c-b241c532b468",
   "metadata": {},
   "source": [
    "Problem 27: Implement linear search to find the index of a target element in an array."
   ]
  },
  {
   "cell_type": "code",
   "execution_count": 51,
   "id": "3df51800-83a7-46d6-ac38-8fca423cb542",
   "metadata": {},
   "outputs": [
    {
     "name": "stdout",
     "output_type": "stream",
     "text": [
      "2\n"
     ]
    }
   ],
   "source": [
    "def linearSearch(nums, target):\n",
    "    for index, value in enumerate(nums):\n",
    "        if value == target:\n",
    "            return index\n",
    "    return -1  # Return -1 if the target is not found\n",
    "\n",
    "# Example usage\n",
    "nums = [5, 3, 8, 2, 7, 4]\n",
    "target = 8\n",
    "print(linearSearch(nums, target))  # Output: 2\n"
   ]
  },
  {
   "cell_type": "markdown",
   "id": "e3dd828f-de31-4c6b-a07d-8bdb46a241d7",
   "metadata": {},
   "source": [
    "Problem 28 Calculate the factorial of a given number."
   ]
  },
  {
   "cell_type": "code",
   "execution_count": 52,
   "id": "578ecb6c-86a2-4f29-a5aa-ff3451a513f3",
   "metadata": {},
   "outputs": [
    {
     "name": "stdout",
     "output_type": "stream",
     "text": [
      "120\n"
     ]
    }
   ],
   "source": [
    "def factorial(n):\n",
    "    if n == 0 or n == 1:\n",
    "        return 1\n",
    "    return n * factorial(n - 1)\n",
    "\n",
    "# Example usage\n",
    "n = 5\n",
    "print(factorial(n))  # Output: 120\n"
   ]
  },
  {
   "cell_type": "markdown",
   "id": "19b48a07-7219-4e64-b96f-9567768aeab8",
   "metadata": {},
   "source": [
    "Problem 29: Check if a given number is a prime number."
   ]
  },
  {
   "cell_type": "code",
   "execution_count": 53,
   "id": "5bd38c9f-d11c-47e8-96c1-fbf085d9ca51",
   "metadata": {},
   "outputs": [
    {
     "name": "stdout",
     "output_type": "stream",
     "text": [
      "True\n"
     ]
    }
   ],
   "source": [
    "def isPrime(n):\n",
    "    if n <= 1:\n",
    "        return False\n",
    "    if n <= 3:\n",
    "        return True\n",
    "    if n % 2 == 0 or n % 3 == 0:\n",
    "        return False\n",
    "    i = 5\n",
    "    while i * i <= n:\n",
    "        if n % i == 0 or n % (i + 2) == 0:\n",
    "            return False\n",
    "        i += 6\n",
    "    return True\n",
    "\n",
    "# Example usage\n",
    "n = 7\n",
    "print(isPrime(n))  # Output: True\n"
   ]
  },
  {
   "cell_type": "markdown",
   "id": "5fefe42f-db7a-47e1-9e44-73a759bd6af2",
   "metadata": {},
   "source": [
    "Problem 30: Generate the Fibonacci series up to a given number n."
   ]
  },
  {
   "cell_type": "code",
   "execution_count": 54,
   "id": "6258a81e-6e47-4472-a0e0-074b0f9d17a4",
   "metadata": {},
   "outputs": [
    {
     "name": "stdout",
     "output_type": "stream",
     "text": [
      "[0, 1, 1, 2, 3, 5, 8]\n"
     ]
    }
   ],
   "source": [
    "def fibonacci(n):\n",
    "    series = []\n",
    "    a, b = 0, 1\n",
    "    while a <= n:\n",
    "        series.append(a)\n",
    "        a, b = b, a + b\n",
    "    return series\n",
    "\n",
    "# Example usage\n",
    "n = 8\n",
    "print(fibonacci(n))  # Output: [0, 1, 1, 2, 3, 5, 8]\n"
   ]
  },
  {
   "cell_type": "markdown",
   "id": "ace80520-e339-43f8-9a83-9c087f7ff081",
   "metadata": {},
   "source": [
    "Problem 31: Calculate the power of a number using recursion."
   ]
  },
  {
   "cell_type": "code",
   "execution_count": 55,
   "id": "a5118b1c-b2a7-478d-8c9b-5fa1b672eced",
   "metadata": {},
   "outputs": [
    {
     "name": "stdout",
     "output_type": "stream",
     "text": [
      "81\n"
     ]
    }
   ],
   "source": [
    "def power(base, exponent):\n",
    "    if exponent == 0:\n",
    "        return 1\n",
    "    if exponent < 0:\n",
    "        return 1 / power(base, -exponent)\n",
    "    return base * power(base, exponent - 1)\n",
    "\n",
    "# Example usage\n",
    "base = 3\n",
    "exponent = 4\n",
    "print(power(base, exponent))  # Output: 81\n"
   ]
  },
  {
   "cell_type": "markdown",
   "id": "8e8cd859-23a8-4f91-92ae-067e84c3c2ec",
   "metadata": {},
   "source": [
    "Problem 32: Reverse a given string."
   ]
  },
  {
   "cell_type": "code",
   "execution_count": 56,
   "id": "bc2cd635-ca93-44b0-b45c-691c811026c0",
   "metadata": {},
   "outputs": [
    {
     "name": "stdout",
     "output_type": "stream",
     "text": [
      "olleh\n"
     ]
    }
   ],
   "source": [
    "def reverseString(s):\n",
    "    return s[::-1]\n",
    "\n",
    "# Example usage\n",
    "s = \"hello\"\n",
    "print(reverseString(s))  # Output: \"olleh\"\n"
   ]
  },
  {
   "cell_type": "code",
   "execution_count": null,
   "id": "6dbd7b36-1dab-4352-95ce-f74232a9d76d",
   "metadata": {},
   "outputs": [],
   "source": []
  }
 ],
 "metadata": {
  "kernelspec": {
   "display_name": "Python 3 (ipykernel)",
   "language": "python",
   "name": "python3"
  },
  "language_info": {
   "codemirror_mode": {
    "name": "ipython",
    "version": 3
   },
   "file_extension": ".py",
   "mimetype": "text/x-python",
   "name": "python",
   "nbconvert_exporter": "python",
   "pygments_lexer": "ipython3",
   "version": "3.11.7"
  }
 },
 "nbformat": 4,
 "nbformat_minor": 5
}
